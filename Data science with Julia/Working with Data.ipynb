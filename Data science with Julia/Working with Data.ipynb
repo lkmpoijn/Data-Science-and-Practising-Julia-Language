{
 "cells": [
  {
   "cell_type": "markdown",
   "metadata": {},
   "source": [
    "# Working with Data\n",
    "The purpose of this chapter is to familiarize the reader with some of the basic of working with data in Julia. As would be expected, much of the focus of this chapter is on or around dataframes, including dataframe functions. Other topic covered include categorical data, input-output (IO), and the split-apply-combine strategy."
   ]
  },
  {
   "cell_type": "markdown",
   "metadata": {},
   "source": [
    "## Dataframes\n",
    "A dataframe is a tabular representation of data, similar to a spreadsheet or a data matrix. As with a matrix, the observations are rows and the variables are columns. Each row is a single (vectorvalued) observation. For a single row, i.e., observation, each column represents a single realization of a variable. At this stage, it may be helppful to explicitly draw the analogy between a dataframe and the more formal notation often used in statistics and data science.\n",
    "\n",
    "Suppose we observe $n$ realizations $\\mathbf{x}_1,\\cdots,\\mathbf{x}_n$ of $p$-dimensional random variables $\\mathbf{X}_1,\\cdots,\\mathbf{X}_n$, where $\\mathbf{X}_i=(X_{i1},X_{i2},\\cdots,X_{ip})^{\\prime}$ for $i=1,\\cdots,n$. In matrix form, this can be written\n",
    "\\begin{equation}\n",
    "\\mathscr{X}=\\left(\\mathbf{X}_{1}, \\mathbf{X}_{2}, \\ldots, \\mathbf{X}_{n}\\right)^{\\prime}=\\left(\\begin{array}{c}{\\mathbf{X}_{1}^{\\prime}} \\\\ {\\mathbf{X}_{2}^{\\prime}} \\\\ {\\vdots} \\\\ {\\mathbf{X}_{n}^{\\prime}}\\end{array}\\right)=\\left(\\begin{array}{cccc}{X_{11}} & {X_{12}} & {\\cdots} & {X_{1 p}} \\\\ {X_{21}} & {X_{22}} & {\\cdots} & {X_{2 p}} \\\\ {\\vdots} & {\\vdots} & {\\ddots} & {\\vdots} \\\\ {X_{n 1}} & {X_{n 2}} & {\\cdots} & {X_{n p}}\\end{array}\\right).\n",
    "\\end{equation}\n",
    "\n",
    "Now, $\\mathbf{X}_i$ is called a random vector and $\\mathscr{X}$ is called an $n\\times p$ random matrix. A realization of $\\mathscr{X}$ can be considered a data matrix. For completeness, note that a matrix $\\mathbf{A}$ with all entries constant is called a constant matrix.\n",
    "\n",
    "Consider, for example, data on the weight and height of 500 people. Let $\\mathbf{x}_i=(x_{i1},x_{i2})^{\\prime}$ be the associated observation fro the $i$th person, $i=1,2,\\cdots,500$, where $x_{i1}$ represents their weight and $x_{i2}$ represents their height. The associated data matrix is then\n",
    "\n",
    "\\begin{equation}\n",
    "\\mathscr{X}=\\left(\\mathrm{x}_{1}, \\mathrm{x}_{2}, \\ldots, \\mathrm{x}_{500}\\right)^{\\prime}=\\left(\\begin{array}{c}{\\mathrm{x}_{1}^{\\prime}} \\\\ {\\mathrm{x}_{2}^{\\prime}} \\\\ {\\vdots} \\\\ {\\mathrm{x}_{500}^{\\prime}}\\end{array}\\right)=\\left(\\begin{array}{cc}{x_{11}} & {x_{12}} \\\\ {x_{21}} & {x_{22}} \\\\ {\\vdots} & {\\vdots} \\\\ {x_{500,1}} & {x_{500,2}}\\end{array}\\right)\n",
    "\\end{equation}\n",
    "\n",
    "A dataframe is a computer representation of a data matrix. In Julia, the `DataFrame` type is available through the `DataFrames.jl` package. There are several convenient features of a `DataFrame`, including:\n",
    "\n",
    "- columns can be different Julia types;\n",
    "- table cell entries can be missing;\n",
    "- metadata can be associated with a `DataFrame`;\n",
    "- columns can be names;\n",
    "- tables can be subsetted by row, column or both.\n",
    "\n",
    "The columns of a `DataFrame` are most ogten integers, floats or strings, an dthey are specified by Julia symbols."
   ]
  },
  {
   "cell_type": "code",
   "execution_count": 1,
   "metadata": {},
   "outputs": [
    {
     "name": "stdout",
     "output_type": "stream",
     "text": [
      "eval(:fruit): apple\n"
     ]
    }
   ],
   "source": [
    "## symbol versus string\n",
    "fruit = \"apple\"\n",
    "println(\"eval(:fruit): \", eval(:fruit))\n"
   ]
  },
  {
   "cell_type": "code",
   "execution_count": 2,
   "metadata": {},
   "outputs": [
    {
     "name": "stdout",
     "output_type": "stream",
     "text": [
      "eval(\"apple\"): apple\n"
     ]
    }
   ],
   "source": [
    "println(\"\"\"eval(\"apple\"): \"\"\", eval(\"apple\"))"
   ]
  },
  {
   "cell_type": "markdown",
   "metadata": {},
   "source": [
    "In Julia, a symbol is how a vaariable name is represented as data; on the other hand, a string represents itself. Note that `df[:symbol]` is how a column is accessed with a symbol; specifically, the data in the column represented by `symbol` contained in the `DataFrame df` is being accessed. In Julia, a `DataFrame` can be built all once in multiple phases."
   ]
  },
  {
   "cell_type": "code",
   "execution_count": 6,
   "metadata": {},
   "outputs": [
    {
     "data": {
      "text/plain": [
       "50-element Array{Float64,1}:\n",
       " 2.393325358524223 \n",
       " 2.4310412249328515\n",
       " 5.0422956234853125\n",
       " 3.7345079211580465\n",
       " 0.8588031634040387\n",
       " 0.5231696808320803\n",
       " 2.031479078828272 \n",
       " 2.4806651435260076\n",
       " 9.576090582790384 \n",
       " 6.124545507841852 \n",
       " 0.7720685108626731\n",
       " 6.192654315744594 \n",
       " 6.699890875731672 \n",
       " ⋮                 \n",
       " 3.691184458092902 \n",
       " 9.562195756696816 \n",
       " 2.433614543200589 \n",
       " 2.412383239462625 \n",
       " 1.222717094180467 \n",
       " 3.6746066646508866\n",
       " 2.5425484862899155\n",
       " 0.6933323954399253\n",
       " 7.280430172887931 \n",
       " 3.2074781385911297\n",
       " 4.770360925053668 \n",
       " 2.39414636559205  "
      ]
     },
     "execution_count": 6,
     "metadata": {},
     "output_type": "execute_result"
    }
   ],
   "source": [
    "## Some examples with DataFrames\n",
    "\n",
    "using DataFrames, Distributions, StatsBase, Random\n",
    "\n",
    "Random.seed!(825)\n",
    "\n",
    "N=50\n",
    "\n",
    "## Create a sample dataframe\n",
    "## Initially the DataFrame has N rows and 3 collumns\n",
    "df1 = DataFrame(\n",
    "    x1 = rand(Normal(2,1),N),\n",
    "    x2 = [sample([\"High\",\"Medium\",\"Low\"],\n",
    "                pweights([0.25,0.45,0.30])) for i =1:N],\n",
    "    x3 = rand(Pareto(2,1),N)\n",
    ")\n",
    "\n",
    "## Add a 4th column, y, which is dependent on x3 and the level of x2\n",
    "df1[:y] = [df1[i,:x2] == \"Medium\" ? *(2, df1[i, :x3]) :\n",
    "                df1[i,:x2] == \"High\" ? *(4, df1[i, :x3]) :\n",
    "                    *(0.5, df1[i,:x3]) for i=1:N]"
   ]
  },
  {
   "cell_type": "markdown",
   "metadata": {},
   "source": [
    "A `DataFrame` can be sliced the same a two-dimensional `Array` is sliced, i.e., `df[row_range, column_range]`. These ranges can be specified in a number of ways:\n",
    "\n",
    "- Using `Int` indices individually or as arrays, e.g., `1` or `[4,6,9]`.\n",
    "- Using `:` to select indics in a dimension, e.g., `x:y` selects the range from `x` to `y` and `:` selects all indices in that dimension.\n",
    "- Via arrays of Boolean values, where `true` selects the elements at that index.\n",
    "\n",
    "Note that columns can be selected by their symbols, either individually or in an array `[:x1, :x2]`."
   ]
  },
  {
   "cell_type": "code",
   "execution_count": 7,
   "metadata": {},
   "outputs": [
    {
     "name": "stdout",
     "output_type": "stream",
     "text": [
      "df1[1:2,3:4]: 2×2 DataFrame\n",
      "│ Row │ x3      │ y       │\n",
      "│     │ \u001b[90mFloat64\u001b[39m │ \u001b[90mFloat64\u001b[39m │\n",
      "├─────┼─────────┼─────────┤\n",
      "│ 1   │ 1.19666 │ 2.39333 │\n",
      "│ 2   │ 1.21552 │ 2.43104 │\n"
     ]
    }
   ],
   "source": [
    "## Slicing DataFrames\n",
    "println(\"df1[1:2,3:4]: \",df1[1:2, 3:4])"
   ]
  },
  {
   "cell_type": "code",
   "execution_count": 8,
   "metadata": {},
   "outputs": [
    {
     "name": "stdout",
     "output_type": "stream",
     "text": [
      "\n",
      "df1[1:2, [:y,:x1]]: 2×2 DataFrame\n",
      "│ Row │ y       │ x1      │\n",
      "│     │ \u001b[90mFloat64\u001b[39m │ \u001b[90mFloat64\u001b[39m │\n",
      "├─────┼─────────┼─────────┤\n",
      "│ 1   │ 2.39333 │ 1.81025 │\n",
      "│ 2   │ 2.43104 │ 3.1707  │\n"
     ]
    }
   ],
   "source": [
    "println(\"\\ndf1[1:2, [:y,:x1]]: \",df1[1:2, [:y,:x1]])"
   ]
  },
  {
   "cell_type": "code",
   "execution_count": 9,
   "metadata": {},
   "outputs": [
    {
     "name": "stdout",
     "output_type": "stream",
     "text": [
      "\n",
      "Colums to keepSymbol[:x3, :y]\n"
     ]
    }
   ],
   "source": [
    "## Now, exclude columns x1 and x2\n",
    "keep = setdiff(names(df1), [:x1, :x2])\n",
    "println(\"\\nColums to keep\", keep)"
   ]
  },
  {
   "cell_type": "code",
   "execution_count": 10,
   "metadata": {},
   "outputs": [
    {
     "name": "stdout",
     "output_type": "stream",
     "text": [
      "df1[1:2,keep]: 2×2 DataFrame\n",
      "│ Row │ x3      │ y       │\n",
      "│     │ \u001b[90mFloat64\u001b[39m │ \u001b[90mFloat64\u001b[39m │\n",
      "├─────┼─────────┼─────────┤\n",
      "│ 1   │ 1.19666 │ 2.39333 │\n",
      "│ 2   │ 1.21552 │ 2.43104 │\n"
     ]
    }
   ],
   "source": [
    "println(\"df1[1:2,keep]: \",df1[1:2, keep])"
   ]
  },
  {
   "cell_type": "markdown",
   "metadata": {},
   "source": [
    "In practical applications, missing data is common. In `DataFrames.jl`, the `Missing` type is used to represent missing values. In Julia, a singlton occurence of `Missing`, `missing` is used to represent missing data. Specifically, `missing` is used to represent the value of a measurement when a valid value could have been observed but was not.  Note that `missing` in Julia is analogous to `NA` in *R*.\n",
    "\n",
    "In the following code block, the array `v2` has type `Union{Float64,Missings.Missing}`. In Julia, `Union` types are an abstract type that contain objects of types included in its arguments. In this example, `v2` can contain values of `missing` or `Float64` numbers. Note that `missings()` can be used togenerate arrays that will support missing values; specifically, it will generate vectors of type `Union` if another type is specified in the first argument of the function call. Also, `ismissing(x)` is used to test whether `x` is missing, where `x` is usually an element of a data structure, e.g., `ismissing(v2[1])`."
   ]
  },
  {
   "cell_type": "code",
   "execution_count": 13,
   "metadata": {},
   "outputs": [
    {
     "name": "stdout",
     "output_type": "stream",
     "text": [
      "v1: Missing[missing, missing]\n"
     ]
    }
   ],
   "source": [
    "v1 = missings(2)\n",
    "println(\"v1: \",v1)"
   ]
  },
  {
   "cell_type": "code",
   "execution_count": 14,
   "metadata": {},
   "outputs": [
    {
     "name": "stdout",
     "output_type": "stream",
     "text": [
      "v2: Union{Missing, Float64}[missing 3.14159 missing]\n"
     ]
    }
   ],
   "source": [
    "v2 = missings(Float64,1,3)\n",
    "v2[2] = pi\n",
    "println(\"v2: $(v2)\")"
   ]
  },
  {
   "cell_type": "code",
   "execution_count": 15,
   "metadata": {},
   "outputs": [
    {
     "name": "stdout",
     "output_type": "stream",
     "text": [
      "m1: Bool[true false true]\n"
     ]
    }
   ],
   "source": [
    "## test for missing\n",
    "m1 = map(ismissing,v2)\n",
    "println(\"m1: $(m1)\")"
   ]
  },
  {
   "cell_type": "code",
   "execution_count": 16,
   "metadata": {},
   "outputs": [
    {
     "name": "stdout",
     "output_type": "stream",
     "text": [
      "Percent missing v2: 66.66666666666666\n"
     ]
    }
   ],
   "source": [
    "println(\"Percent missing v2: \", *(mean([ismissing(i) for i in v2]), 100))"
   ]
  },
  {
   "cell_type": "markdown",
   "metadata": {},
   "source": [
    "Note that most functions in Julia do not accept data of type `Missings.Missing` as input. Therefore, users are often required to remove them before they can use specific functions. Using `skipmissing()` returns an iterator that excludes the missing values and, when used in conjunction with `collect()`, gives an array of non-missing values. This approach can be used with functions that take non-missing values only."
   ]
  },
  {
   "cell_type": "code",
   "execution_count": 17,
   "metadata": {},
   "outputs": [
    {
     "data": {
      "text/plain": [
       "3.141592653589793"
      ]
     },
     "execution_count": 17,
     "metadata": {},
     "output_type": "execute_result"
    }
   ],
   "source": [
    "## calculates the mean of the non-missing values\n",
    "mean(skipmissing(v2))"
   ]
  },
  {
   "cell_type": "code",
   "execution_count": 18,
   "metadata": {},
   "outputs": [
    {
     "data": {
      "text/plain": [
       "1-element Array{Float64,1}:\n",
       " 3.141592653589793"
      ]
     },
     "execution_count": 18,
     "metadata": {},
     "output_type": "execute_result"
    }
   ],
   "source": [
    "## collects the non-missing values in an array\n",
    "collect(skipmissing(v2))"
   ]
  },
  {
   "cell_type": "markdown",
   "metadata": {},
   "source": [
    "## Categorical Data\n",
    "\n",
    "In Julia, categorical data is represented by arrays of type `CategoricalArray`, defined in the `CategoricalArrays.jl` package. Note that `CategoricalArray` arrays are analogous to factors in *R*. `CategoricalArray` arrays have a number of advantages over `String` arrays in a dataframe:\n",
    "\n",
    "- They save memory be representing each unique value of the string array as an index.\n",
    "- Each index corresponds to a level.\n",
    "- After data cleaning, there are usually only a small number of levels.\n",
    "\n",
    "`CcategoricalArray` arrays support missing values. The type `CategoricalArray{Union{T, Missing}}` is used to represent missing values. When indexing/slicing arrays of this type. `missinng` is reutrned when it is present at that location."
   ]
  },
  {
   "cell_type": "code",
   "execution_count": 22,
   "metadata": {},
   "outputs": [
    {
     "name": "stdout",
     "output_type": "stream",
     "text": [
      "1. levels(v3c): [\"High\", \"Low\"]\n",
      "1. v3c: Union{Missing, CategoricalString{UInt32}}[\"Low\", missing, \"High\", missing, \"Low\", missing, \"High\", missing, \"Low\", missing]\n"
     ]
    }
   ],
   "source": [
    "## Number of entries for the categorical Arrays\n",
    "Nca =10\n",
    "\n",
    "## Empty array\n",
    "v3 = Array{Union{String,Missing}}(undef, Nca)\n",
    "\n",
    "##Array has string and missing values\n",
    "v3 = [isodd(i) ? sample([\"High\", \"Low\"], pweights([0.35,0.65])) : \n",
    "        missing for i = 1:Nca]\n",
    "## v3c is of type CategoricalArray{Union{Missing,String},1,UInt32}\n",
    "v3c = categorical(v3)\n",
    "\n",
    "## Levels should be [\"High\",\"Low\"]\n",
    "println(\"1. levels(v3c): \", levels(v3c))\n",
    "println(\"1. v3c: $(v3c)\")"
   ]
  },
  {
   "cell_type": "code",
   "execution_count": 20,
   "metadata": {},
   "outputs": [
    {
     "name": "stdout",
     "output_type": "stream",
     "text": [
      "2.levels(v3c): [\"Low\", \"High\"]\n"
     ]
    }
   ],
   "source": [
    "## Reordered levels - does not change the data\n",
    "levels!(v3c, [\"Low\",\"High\"])\n",
    "println(\"2.levels(v3c): $(levels(v3c))\")"
   ]
  },
  {
   "cell_type": "code",
   "execution_count": 21,
   "metadata": {},
   "outputs": [
    {
     "name": "stdout",
     "output_type": "stream",
     "text": [
      "2.v3c: Union{Missing, CategoricalString{UInt32}}[\"High\", missing, \"Low\", missing, \"Low\", missing, \"High\", missing, \"Low\", missing]\n"
     ]
    }
   ],
   "source": [
    "println(\"2.v3c: $(v3c)\")"
   ]
  },
  {
   "cell_type": "markdown",
   "metadata": {},
   "source": [
    "Here are several useful functinos that can be used with `CatoegoricalArray` arrays:\n",
    "\n",
    "- `levels()` returns the levels pf the `CategoricalArray`.\n",
    "- `levels()` changes the order of the array's levels.\n",
    "- `compress()` compresses the array saving memory.\n",
    "- `decompress()` decompresses the compressed array.\n",
    "- `categorical(ca)` converts the array `ca` into an array of type `CategoricalArray`.\n",
    "- `droplevels!(ca)` drops levels no longer present in the array `ca`. This is useful when a dataframe has been subsetted and some levels are no longer present in the data.\n",
    "- `recode(a, pairs)` recodes the levels of the array. New levels should be the same type as the original ones.\n",
    "- `recode!(new, orig, pairs)` recodes the levels in `orig` using the pairs and puts the `new` levels in `new`."
   ]
  }
 ],
 "metadata": {
  "kernelspec": {
   "display_name": "Julia 1.1.1",
   "language": "julia",
   "name": "julia-1.1"
  },
  "language_info": {
   "file_extension": ".jl",
   "mimetype": "application/julia",
   "name": "julia",
   "version": "1.1.1"
  },
  "toc": {
   "base_numbering": 1,
   "nav_menu": {},
   "number_sections": true,
   "sideBar": true,
   "skip_h1_title": false,
   "title_cell": "Table of Contents",
   "title_sidebar": "Contents",
   "toc_cell": false,
   "toc_position": {},
   "toc_section_display": true,
   "toc_window_display": false
  }
 },
 "nbformat": 4,
 "nbformat_minor": 2
}
