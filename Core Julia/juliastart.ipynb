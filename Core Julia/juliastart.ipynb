{
 "cells": [
  {
   "cell_type": "markdown",
   "metadata": {},
   "source": [
    "# Core Julia\n",
    "\n",
    "This chapter consists of six sections:\n",
    "\n",
    "1. Variable names;\n",
    "2. Operators;\n",
    "3. Types;\n",
    "4. Data Structure;\n",
    "5. Control flow;\n",
    "6. Functions.\n",
    "\n",
    "## Variable names\n",
    "\n",
    "Variable names are case sensitive and Unicode names (in UTF-8 encoding) may be used. And names must begin with a letter, no matter lowercase or uppercase, an underscore or a Unicode code point larger than 00A0, and other Unicode points, even a latex symbol. We can also redefine the constants here, such as $\\pi$. But bulid-in statements are not allowed in this language. The examples are below.\n"
   ]
  },
  {
   "cell_type": "code",
   "execution_count": 1,
   "metadata": {},
   "outputs": [
    {
     "data": {
      "text/plain": [
       "true"
      ]
     },
     "execution_count": 1,
     "metadata": {},
     "output_type": "execute_result"
    }
   ],
   "source": [
    "## right variable names\n",
    "z = 100\n",
    "y = 1.0\n",
    "s = \"my_variable\"\n",
    "data_science = \"true\"\n",
    "datascience = true\n",
    "\n",
    "## wrong variable names are here if run them, return an error\n",
    "## if = 1.2\n",
    "## else = true\n",
    "## "
   ]
  },
  {
   "cell_type": "markdown",
   "metadata": {},
   "source": [
    "## Operators\n",
    "\n",
    "The operators are similar to *R* and *Python*. Four main categories of operators in Julia:\n",
    "\n",
    "1. Arithmetic;\n",
    "2. Updating;\n",
    "3. Numeric comparison;\n",
    "4. Bitwise."
   ]
  },
  {
   "cell_type": "code",
   "execution_count": null,
   "metadata": {
    "scrolled": true
   },
   "outputs": [],
   "source": [
    "x = 2\n",
    "y = 3\n",
    "z = 4\n",
    "\n",
    "x + y \n",
    "x^y\n",
    "x += 2\n",
    "x\n",
    "y"
   ]
  },
  {
   "cell_type": "markdown",
   "metadata": {},
   "source": [
    "When constructing expressing with multiple operators, the order in which these operators are applied to the expression is known as operator precedence.\n",
    "\n",
    "With the parentheses () inclueded in the expression, we can control the order by ourselves like the following code"
   ]
  },
  {
   "cell_type": "code",
   "execution_count": null,
   "metadata": {},
   "outputs": [],
   "source": [
    "x*y+z^2\n",
    "x*(y+z^2)\n",
    "(x*y)+(z^2)"
   ]
  },
  {
   "cell_type": "markdown",
   "metadata": {
    "slideshow": {
     "slide_type": "slide"
    }
   },
   "source": [
    "## Types\n",
    "\n",
    "### Numeric\n",
    "\n",
    "Julia offers full support for real and complex numbers. The internal variable `Sys.WORD_SIZE` displays the architecture type of the computer. Minimum and Maximum can be showed by `typemin()` and `typemax()`."
   ]
  },
  {
   "cell_type": "code",
   "execution_count": 2,
   "metadata": {},
   "outputs": [
    {
     "data": {
      "text/plain": [
       "64"
      ]
     },
     "execution_count": 2,
     "metadata": {},
     "output_type": "execute_result"
    }
   ],
   "source": [
    "Sys.WORD_SIZE"
   ]
  },
  {
   "cell_type": "code",
   "execution_count": 3,
   "metadata": {},
   "outputs": [
    {
     "data": {
      "text/plain": [
       "9223372036854775807"
      ]
     },
     "execution_count": 3,
     "metadata": {},
     "output_type": "execute_result"
    }
   ],
   "source": [
    "typemax(Int)"
   ]
  },
  {
   "cell_type": "code",
   "execution_count": 4,
   "metadata": {},
   "outputs": [
    {
     "data": {
      "text/plain": [
       "-9223372036854775808"
      ]
     },
     "execution_count": 4,
     "metadata": {},
     "output_type": "execute_result"
    }
   ],
   "source": [
    "typemin(Int)"
   ]
  },
  {
   "cell_type": "code",
   "execution_count": 5,
   "metadata": {},
   "outputs": [
    {
     "data": {
      "text/plain": [
       "9223372036854775807"
      ]
     },
     "execution_count": 5,
     "metadata": {},
     "output_type": "execute_result"
    }
   ],
   "source": [
    "typemax(Int64)"
   ]
  },
  {
   "cell_type": "code",
   "execution_count": 6,
   "metadata": {},
   "outputs": [
    {
     "data": {
      "text/plain": [
       "Inf32"
      ]
     },
     "execution_count": 6,
     "metadata": {},
     "output_type": "execute_result"
    }
   ],
   "source": [
    "typemax(Float32)"
   ]
  },
  {
   "cell_type": "markdown",
   "metadata": {
    "slideshow": {
     "slide_type": "slide"
    }
   },
   "source": [
    "Some types use leftmost bit to control the sign, such as `Int64`, but others use that bit as value and without sign like `UInt128`.\n",
    "\n",
    "Boolean values are 8-bit integers, with false being 0 and true being 1.Overflow errors will happen if the result is larger or smaller than its allowable size."
   ]
  },
  {
   "cell_type": "code",
   "execution_count": 7,
   "metadata": {
    "slideshow": {
     "slide_type": "notes"
    }
   },
   "outputs": [
    {
     "name": "stdout",
     "output_type": "stream",
     "text": [
      "typeof(literal_int):Int64\n"
     ]
    }
   ],
   "source": [
    "literal_int = 1\n",
    "println(\"typeof(literal_int):\",typeof(literal_int))"
   ]
  },
  {
   "cell_type": "code",
   "execution_count": 8,
   "metadata": {},
   "outputs": [
    {
     "data": {
      "text/plain": [
       "9223372036854775807"
      ]
     },
     "execution_count": 8,
     "metadata": {},
     "output_type": "execute_result"
    }
   ],
   "source": [
    "x = typemax(Int64)"
   ]
  },
  {
   "cell_type": "code",
   "execution_count": 9,
   "metadata": {},
   "outputs": [
    {
     "data": {
      "text/plain": [
       "-9223372036854775808"
      ]
     },
     "execution_count": 9,
     "metadata": {},
     "output_type": "execute_result"
    }
   ],
   "source": [
    "x += 1"
   ]
  },
  {
   "cell_type": "markdown",
   "metadata": {},
   "source": [
    "### Floats\n",
    "\n",
    "Floats are similar to scientific notation. They are made up of three components: asigned interger whose length determines the precision, the base used to represent te number and a signed integer htat changes the magnitude of floating point number (the exponent). `Float64` literals are distinguished by having an `e` before hte power, and can be defined in hexadecimal. `Float32` literals are distinguished by having an `f` in place of the `e`. THere are three `Float64` values that do not occur on the real line:\n",
    "\n",
    "1. `Inf`, positive indinity: a value larger than all finite floating point numbers, equal to itself, and greater than every other floating point value but `NaN`;\n",
    "2. `-Inf`, negative infinity: a value less than all finite floating point numbers, equal to itself, and less than every other floating point value but `NaN`;\n",
    "3. `NaN`, not a number: a value not equal to any floating point value, and not `==`,`<` or `>` than any floating point value, including itself.\n",
    "\n",
    "Some tips:\n",
    "\n",
    "1. digit separation using an `_`;"
   ]
  },
  {
   "cell_type": "code",
   "execution_count": 10,
   "metadata": {},
   "outputs": [
    {
     "name": "stdout",
     "output_type": "stream",
     "text": [
      "x1 is Float64\n",
      "\n",
      "x64 is Float64\n",
      "\n",
      "x32 is Float32\n"
     ]
    }
   ],
   "source": [
    "x1 = 1.0\n",
    "x64 = 15e-15\n",
    "x32 = 2.5f-4\n",
    "println(\"x1 is \",typeof(x1))\n",
    "println(\"\\nx64 is \", typeof(x64))\n",
    "println(\"\\nx32 is \", typeof(x32))"
   ]
  },
  {
   "cell_type": "code",
   "execution_count": 11,
   "metadata": {},
   "outputs": [
    {
     "data": {
      "text/plain": [
       "true"
      ]
     },
     "execution_count": 11,
     "metadata": {},
     "output_type": "execute_result"
    }
   ],
   "source": [
    "9.2_4==9.24\n",
    "## digit separation using an _"
   ]
  },
  {
   "cell_type": "markdown",
   "metadata": {},
   "source": [
    "In machine, it is defined that the smallest value is $1+z\\neq 1$. In Julia, the value of epsilon for a particular machine can be found via the `eps()` function.\n",
    "\n",
    "The spacing between floating point numbers and the value of machine epsilon is important to understand because it can help avoid certain types of errors.\n",
    "\n",
    "There are also float underflow errors, which occur when the result of a calculation is smaller than machine epsilon or when numbers of similar precision are subtracted."
   ]
  },
  {
   "cell_type": "code",
   "execution_count": 12,
   "metadata": {},
   "outputs": [
    {
     "data": {
      "text/plain": [
       "2.220446049250313e-16"
      ]
     },
     "execution_count": 12,
     "metadata": {},
     "output_type": "execute_result"
    }
   ],
   "source": [
    "eps()"
   ]
  },
  {
   "cell_type": "code",
   "execution_count": 13,
   "metadata": {},
   "outputs": [
    {
     "name": "stdout",
     "output_type": "stream",
     "text": [
      "2.2204460492503132e-41\n",
      "2.2204460492503133e-21\n",
      "2.220446049250313e-16\n",
      "2.220446049250313e-11\n",
      "2.2204460492503133e9\n"
     ]
    }
   ],
   "source": [
    "n1 = [1e-25,1e-5,1.,1e5,1e25]\n",
    "for i in n1\n",
    "    println(*(i,eps()))\n",
    "end"
   ]
  },
  {
   "cell_type": "markdown",
   "metadata": {},
   "source": [
    "### Strings\n",
    "\n",
    "In Julia, a string is a sequence of Unicode code points, using UTF-8 encoding. Characters in strings have an index value within the string. It is worth noting that Julia indices start at **position 1**, similar to **R** but different to **Python**. The key word `end`\n",
    "can be used to represent the last index. Herein, we will deal with ASCII characters only.\n",
    "Note that `String` is the built-in type for string and string literals,and `Char` is the built-in type used to represent single chararcters. In fact, `Char` is a numeric value representing a\n",
    "Unicode code point. The value of a string cannot be changed, i.e., strings are immutable, and \n",
    "a new string must be built from another string. Strings are defined by double or triple quotes.\n"
   ]
  },
  {
   "cell_type": "code",
   "execution_count": 1,
   "metadata": {},
   "outputs": [
    {
     "data": {
      "text/plain": [
       "\"Hi\""
      ]
     },
     "execution_count": 1,
     "metadata": {},
     "output_type": "execute_result"
    }
   ],
   "source": [
    "s1 = \"Hi\""
   ]
  },
  {
   "cell_type": "code",
   "execution_count": 2,
   "metadata": {},
   "outputs": [
    {
     "data": {
      "text/plain": [
       "\"I have a \\\"quote\\\" character\""
      ]
     },
     "execution_count": 2,
     "metadata": {},
     "output_type": "execute_result"
    }
   ],
   "source": [
    "s2 = \"\"\"I have a \"quote\" character\"\"\""
   ]
  },
  {
   "cell_type": "markdown",
   "metadata": {},
   "source": [
    "String can be sliced using range indexing, e.g., `my_string[4:6]` would return a \n",
    "substring of `my_string` containing the 4th, 5th and 6th charaters of `my_string`. \n",
    "Concatenation can be  done in two ways: using the `string()` function or with the `*`\n",
    "operator. Note this is a somewhat unusual feature of Julia. many other language use `+`\n",
    "to perform concatenation. String interpolation takes place when a string literal is defined\n",
    "with a variable inside its instantiation. The cariable is prepended with `$`. By using variables \n",
    "insider the string's definition, complex strings can be built in a readbale form, without multiple string multiplications."
   ]
  },
  {
   "cell_type": "code",
   "execution_count": 1,
   "metadata": {},
   "outputs": [
    {
     "data": {
      "text/plain": [
       "'D': ASCII/Unicode U+0044 (category Lu: Letter, uppercase)"
      ]
     },
     "execution_count": 1,
     "metadata": {},
     "output_type": "execute_result"
    }
   ],
   "source": [
    "## some examples of strings\n",
    "str = \"Data science is fun!\"\n",
    "str[1]"
   ]
  },
  {
   "cell_type": "code",
   "execution_count": 2,
   "metadata": {},
   "outputs": [
    {
     "data": {
      "text/plain": [
       "'!': ASCII/Unicode U+0021 (category Po: Punctuation, other)"
      ]
     },
     "execution_count": 2,
     "metadata": {},
     "output_type": "execute_result"
    }
   ],
   "source": [
    "str[end]"
   ]
  },
  {
   "cell_type": "code",
   "execution_count": 3,
   "metadata": {},
   "outputs": [
    {
     "data": {
      "text/plain": [
       "\"a sc\""
      ]
     },
     "execution_count": 3,
     "metadata": {},
     "output_type": "execute_result"
    }
   ],
   "source": [
    "str[4:7]"
   ]
  },
  {
   "cell_type": "code",
   "execution_count": 5,
   "metadata": {},
   "outputs": [
    {
     "data": {
      "text/plain": [
       "\"fun!\""
      ]
     },
     "execution_count": 5,
     "metadata": {},
     "output_type": "execute_result"
    }
   ],
   "source": [
    "str[end-3:end]"
   ]
  },
  {
   "cell_type": "code",
   "execution_count": 6,
   "metadata": {},
   "outputs": [
    {
     "data": {
      "text/plain": [
       "\"Data science is fun! Sure is :)\""
      ]
     },
     "execution_count": 6,
     "metadata": {},
     "output_type": "execute_result"
    }
   ],
   "source": [
    "string(str,\" Sure is :)\")"
   ]
  },
  {
   "cell_type": "code",
   "execution_count": 7,
   "metadata": {},
   "outputs": [
    {
     "data": {
      "text/plain": [
       "\"Data science is fun!Sure is :)\""
      ]
     },
     "execution_count": 7,
     "metadata": {},
     "output_type": "execute_result"
    }
   ],
   "source": [
    "str * \"Sure is :)\""
   ]
  },
  {
   "cell_type": "code",
   "execution_count": 8,
   "metadata": {},
   "outputs": [
    {
     "data": {
      "text/plain": [
       "\"1+2=3\""
      ]
     },
     "execution_count": 8,
     "metadata": {},
     "output_type": "execute_result"
    }
   ],
   "source": [
    "# Interpolation\n",
    "\"1+2=$(1+2)\""
   ]
  },
  {
   "cell_type": "code",
   "execution_count": 9,
   "metadata": {},
   "outputs": [
    {
     "data": {
      "text/plain": [
       "\"Julia is great for data science\""
      ]
     },
     "execution_count": 9,
     "metadata": {},
     "output_type": "execute_result"
    }
   ],
   "source": [
    "word1=\"Julia\"\n",
    "word2=\"data\"\n",
    "word3=\"science\"\n",
    "\"$word1 is great for $word2 $word3\""
   ]
  },
  {
   "cell_type": "markdown",
   "metadata": {},
   "source": [
    "Strings can be comared lexicographically using comarsion operators, e.g. `==`, `>`, etc. \n",
    "Lexicograohical comparison involves sequentially comparing string elements with the same position, until one pair of elements falsiies the comparison, or the end of the string is reached. Some useful string functions are:\n",
    "\n",
    "- `findfirst(par,str)` returns the indices of the characters in the string `str` matching the pattern `pat`.\n",
    "- `occursin(substr, str)` returns `true/false` depending on the presence/absence of `substr` in `str`.\n",
    "- 'repeat(str,n)' generates a new string that is the original string `str` repeated `n` times.\n",
    "- 'length(str)' returns the number of charaters in the string `str`.\n",
    "- 'replace(str,ptn => rep)' searches string `str` for the pattern `ptn` and, if it is present, replaces it with `rep`."
   ]
  },
  {
   "cell_type": "code",
   "execution_count": 1,
   "metadata": {},
   "outputs": [
    {
     "data": {
      "text/plain": [
       "false"
      ]
     },
     "execution_count": 1,
     "metadata": {},
     "output_type": "execute_result"
    }
   ],
   "source": [
    "# Lexicographical comparison\n",
    "s1 = \"abcd\"\n",
    "s2 = \"abde\"\n",
    "\n",
    "s1 == s2"
   ]
  },
  {
   "cell_type": "code",
   "execution_count": 2,
   "metadata": {},
   "outputs": [
    {
     "data": {
      "text/plain": [
       "true"
      ]
     },
     "execution_count": 2,
     "metadata": {},
     "output_type": "execute_result"
    }
   ],
   "source": [
    "s1 < s2"
   ]
  },
  {
   "cell_type": "code",
   "execution_count": 3,
   "metadata": {},
   "outputs": [
    {
     "data": {
      "text/plain": [
       "false"
      ]
     },
     "execution_count": 3,
     "metadata": {},
     "output_type": "execute_result"
    }
   ],
   "source": [
    "s1 > s2"
   ]
  },
  {
   "cell_type": "code",
   "execution_count": 6,
   "metadata": {},
   "outputs": [
    {
     "data": {
      "text/plain": [
       "1:4"
      ]
     },
     "execution_count": 6,
     "metadata": {},
     "output_type": "execute_result"
    }
   ],
   "source": [
    "# String functions\n",
    "str = \"Data science is fun!\"\n",
    "\n",
    "findfirst(\"Data\",str)"
   ]
  },
  {
   "cell_type": "code",
   "execution_count": 7,
   "metadata": {},
   "outputs": [
    {
     "data": {
      "text/plain": [
       "true"
      ]
     },
     "execution_count": 7,
     "metadata": {},
     "output_type": "execute_result"
    }
   ],
   "source": [
    "occursin(\"ata\",str)"
   ]
  },
  {
   "cell_type": "code",
   "execution_count": 9,
   "metadata": {},
   "outputs": [
    {
     "data": {
      "text/plain": [
       "\"Data science is great!\""
      ]
     },
     "execution_count": 9,
     "metadata": {},
     "output_type": "execute_result"
    }
   ],
   "source": [
    "replace(str,\"fun\"=>\"great\")"
   ]
  },
  {
   "cell_type": "markdown",
   "metadata": {},
   "source": [
    "Julia fully supports regular expressions (regexes). Regexes in Julia are fully Perl compatible and fully compatible and are used to hunt for patterns in string data. They are defined as string with a leading `r` outside the quotes. Regular expressions are commonly used with the following functions:\n",
    "\n",
    "- `occursin(regex,str)` returns `true/false` if the regex has a match inthe string `str`.\n",
    "- `mathc(regex,str)` returns the first match of `regex` in the string. If there is no match, it returns the special Julia value `nothing`.\n",
    "- `eachmatch(regex, str)` returns all the matches of `regex` inthe string `str` as an array.\n",
    "\n",
    "Regexes are a very powerful programming tool for working with text data. However, an in-depth discussion of them is beyond the scope of this book, and intersted readers are encouraged to consult [Friedl(2006)](http://scans.hebis.de/10/73/59/10735965_toc.pdf) for further details."
   ]
  },
  {
   "cell_type": "code",
   "execution_count": 10,
   "metadata": {},
   "outputs": [
    {
     "data": {
      "text/plain": [
       "true"
      ]
     },
     "execution_count": 10,
     "metadata": {},
     "output_type": "execute_result"
    }
   ],
   "source": [
    "# Regular expresions\n",
    "\n",
    "# match alpha-numeric charaters at the start of the str\n",
    "occursin(r\"[a-zA-z0-9]\",str)"
   ]
  },
  {
   "cell_type": "code",
   "execution_count": 11,
   "metadata": {},
   "outputs": [
    {
     "data": {
      "text/plain": [
       "true"
      ]
     },
     "execution_count": 11,
     "metadata": {},
     "output_type": "execute_result"
    }
   ],
   "source": [
    "occursin(r\"^[a-zA-z0-9]\",str)"
   ]
  },
  {
   "cell_type": "code",
   "execution_count": 12,
   "metadata": {},
   "outputs": [
    {
     "data": {
      "text/plain": [
       "false"
      ]
     },
     "execution_count": 12,
     "metadata": {},
     "output_type": "execute_result"
    }
   ],
   "source": [
    "occursin(r\"[a-zA-z0-9]$\",str)"
   ]
  },
  {
   "cell_type": "code",
   "execution_count": 13,
   "metadata": {},
   "outputs": [
    {
     "data": {
      "text/plain": [
       "true"
      ]
     },
     "execution_count": 13,
     "metadata": {},
     "output_type": "execute_result"
    }
   ],
   "source": [
    "occursin(r\"[^a-zA-Z0-9]\",str)"
   ]
  },
  {
   "cell_type": "code",
   "execution_count": 14,
   "metadata": {},
   "outputs": [
    {
     "data": {
      "text/plain": [
       "RegexMatch(\" \")"
      ]
     },
     "execution_count": 14,
     "metadata": {},
     "output_type": "execute_result"
    }
   ],
   "source": [
    "## matches the first non-alpha-numeric character in the string\n",
    "match(r\"[^a-zA-Z0-9]\",str)"
   ]
  },
  {
   "cell_type": "code",
   "execution_count": 15,
   "metadata": {},
   "outputs": [
    {
     "data": {
      "text/plain": [
       "4-element Array{RegexMatch,1}:\n",
       " RegexMatch(\" \")\n",
       " RegexMatch(\" \")\n",
       " RegexMatch(\" \")\n",
       " RegexMatch(\"!\")"
      ]
     },
     "execution_count": 15,
     "metadata": {},
     "output_type": "execute_result"
    }
   ],
   "source": [
    "## matches all the non-alpha-numeric characters in the string\n",
    "collect(eachmatch(r\"[^a-zA-Z0-9]\",str))"
   ]
  },
  {
   "cell_type": "markdown",
   "metadata": {},
   "source": [
    "### Tuples\n",
    "\n",
    "Tuples are a Julia type. They are an abstraction of function arguments without the function. The arguments are defined in a specific order and have well-defined types. Tuples can have any number of parameters, and they do not have field names. Fields are accessed by their index, and turples are defined using brackets `()` and commas. A very usefual feature of tuples in Julia is that each element of a tuples in Julia is that each element of a tuple can have its own type. Variable values can be assigned directly from atuple where the value of each variable corresponds to a value in the tuple."
   ]
  },
  {
   "cell_type": "code",
   "execution_count": 16,
   "metadata": {},
   "outputs": [
    {
     "data": {
      "text/plain": [
       "NTuple{4,Float64}"
      ]
     },
     "execution_count": 16,
     "metadata": {},
     "output_type": "execute_result"
    }
   ],
   "source": [
    "# A tuple comprising only floats\n",
    "tup1 = (3.0,0.1,0.8,1.9)\n",
    "typeof(tup1)"
   ]
  },
  {
   "cell_type": "code",
   "execution_count": 17,
   "metadata": {},
   "outputs": [
    {
     "data": {
      "text/plain": [
       "Tuple{String,Float64,String,Float64}"
      ]
     },
     "execution_count": 17,
     "metadata": {},
     "output_type": "execute_result"
    }
   ],
   "source": [
    "## A tuple comprising strings and floats\n",
    "tup2 = (\"Data\",2.5,\"Science\", 8.8)\n",
    "typeof(tup2)"
   ]
  },
  {
   "cell_type": "code",
   "execution_count": 18,
   "metadata": {},
   "outputs": [
    {
     "data": {
      "text/plain": [
       "\"Fast\""
      ]
     },
     "execution_count": 18,
     "metadata": {},
     "output_type": "execute_result"
    }
   ],
   "source": [
    "## variable assignment\n",
    "a,b,c = (\"Fast\", 1, 5.2)\n",
    "a"
   ]
  },
  {
   "cell_type": "code",
   "execution_count": 19,
   "metadata": {},
   "outputs": [
    {
     "data": {
      "text/plain": [
       "1"
      ]
     },
     "execution_count": 19,
     "metadata": {},
     "output_type": "execute_result"
    }
   ],
   "source": [
    "b"
   ]
  },
  {
   "cell_type": "code",
   "execution_count": 20,
   "metadata": {},
   "outputs": [
    {
     "data": {
      "text/plain": [
       "5.2"
      ]
     },
     "execution_count": 20,
     "metadata": {},
     "output_type": "execute_result"
    }
   ],
   "source": [
    "c"
   ]
  },
  {
   "cell_type": "code",
   "execution_count": 22,
   "metadata": {},
   "outputs": [
    {
     "data": {
      "text/plain": [
       "String"
      ]
     },
     "execution_count": 22,
     "metadata": {},
     "output_type": "execute_result"
    }
   ],
   "source": [
    "(a,b,c)=(\"safa\",2341,123.412)\n",
    "typeof(a)"
   ]
  },
  {
   "cell_type": "markdown",
   "metadata": {},
   "source": [
    "## DATA STRUCTURES\n",
    "\n",
    "### Arrays\n",
    "\n",
    "An array is a multidimensional grid that stores objects of any type. To improve preformance, arrays should contain only one specific type, e.g., `Int`. Arrays do not require vectroizing for fast array computations. The array implementation used by Julia is written in Julia and relies on the comiler for performace. The compiler uses type inference to make optimized code for array indexing, which makes programs more readable and easier to maintain. Arrays are a subtype of the `AbstractArray` type. As such, they are laid out as a contiguous block of memory. this is not true of other members of the `AbstractArray` type, such as `SparseMatrixCSC` and `SubArray`.\n",
    "\n",
    "The type and dimensions of an array can be specified using `Array{T}(D)`, where `T` is any valid Julia type and `D` is the dimension of the array. The first entry in the tuple `D` is a singleton that specifies how the array values are initialiezed. Users can specify `undef` to create an uninitialized array, `nothing` to create arrays with no value, or `missing` to create arrays of missing values. Arrays with different types can be created with type `Any`."
   ]
  },
  {
   "cell_type": "code",
   "execution_count": 23,
   "metadata": {},
   "outputs": [
    {
     "data": {
      "text/plain": [
       "Array{Int64,1}"
      ]
     },
     "execution_count": 23,
     "metadata": {},
     "output_type": "execute_result"
    }
   ],
   "source": [
    "# A vector of length 5 containing integers\n",
    "a1 = Array{Int64}(undef,5)\n",
    "typeof(a1)"
   ]
  },
  {
   "cell_type": "code",
   "execution_count": 25,
   "metadata": {},
   "outputs": [
    {
     "data": {
      "text/plain": [
       "2×2 Array{Int64,2}:\n",
       " 7926335345396809728  872415232\n",
       " 3891110079994265600  295721712"
      ]
     },
     "execution_count": 25,
     "metadata": {},
     "output_type": "execute_result"
    }
   ],
   "source": [
    "# A 2\\times2 matrix containting integers\n",
    "a2 = Array{Int64}(undef,(2,2))"
   ]
  },
  {
   "cell_type": "code",
   "execution_count": 26,
   "metadata": {},
   "outputs": [
    {
     "data": {
      "text/plain": [
       "2×2 Array{Any,2}:\n",
       " #undef  #undef\n",
       " #undef  #undef"
      ]
     },
     "execution_count": 26,
     "metadata": {},
     "output_type": "execute_result"
    }
   ],
   "source": [
    "# A 2\\times 2 matrix containing Any type\n",
    "a2 = Array{Any}(undef,(2,2))"
   ]
  },
  {
   "cell_type": "markdown",
   "metadata": {},
   "source": [
    "In Julia, `[]` can also be used to generate arrays. In fact, the `Vector()`, `Matrix()` and `collect()` functions can also be used "
   ]
  },
  {
   "cell_type": "code",
   "execution_count": 27,
   "metadata": {},
   "outputs": [
    {
     "data": {
      "text/plain": [
       "Array{Int64,1}"
      ]
     },
     "execution_count": 27,
     "metadata": {},
     "output_type": "execute_result"
    }
   ],
   "source": [
    "## A three-element row \"Vector\"\n",
    "a4 = [1,2,3]\n",
    "typeof(a4)"
   ]
  },
  {
   "cell_type": "markdown",
   "metadata": {},
   "source": [
    "The array `a4` above does not have a second dimension, i.e., it is neither a $1\\times3$ vector nor a $3\\times1$ vector. In other words, Julia makes a distinction between `Array{T,1}` and `Array{T,2}`. "
   ]
  },
  {
   "cell_type": "code",
   "execution_count": 28,
   "metadata": {},
   "outputs": [
    {
     "data": {
      "text/plain": [
       "Array{Int64,2}"
      ]
     },
     "execution_count": 28,
     "metadata": {},
     "output_type": "execute_result"
    }
   ],
   "source": [
    "## A 1\\times 3 colum vector  -- a two-dimensional array\n",
    "a5 = [1 2 3]\n",
    "typeof(a5)"
   ]
  },
  {
   "cell_type": "code",
   "execution_count": 33,
   "metadata": {},
   "outputs": [
    {
     "data": {
      "text/plain": [
       "Array{Int64,2}"
      ]
     },
     "execution_count": 33,
     "metadata": {},
     "output_type": "execute_result"
    }
   ],
   "source": [
    "## A 2\\times 3 matrix, where ; is used to separate rows\n",
    "a6 = [80 81 82 ; 90 91 92]\n",
    "typeof(a6)"
   ]
  },
  {
   "cell_type": "code",
   "execution_count": 34,
   "metadata": {},
   "outputs": [
    {
     "data": {
      "text/plain": [
       "2×2 Array{Float64,2}:\n",
       " 3.0  5.0\n",
       " 1.1  3.5"
      ]
     },
     "execution_count": 34,
     "metadata": {},
     "output_type": "execute_result"
    }
   ],
   "source": [
    "## Arrays containing elements of a specific type can be constructed like:\n",
    "a7 = Float64[3.0 5.0 ; 1.1 3.5]"
   ]
  },
  {
   "cell_type": "code",
   "execution_count": 35,
   "metadata": {},
   "outputs": [
    {
     "data": {
      "text/plain": [
       "3-element Array{Any,1}:\n",
       " #undef\n",
       " #undef\n",
       " #undef"
      ]
     },
     "execution_count": 35,
     "metadata": {},
     "output_type": "execute_result"
    }
   ],
   "source": [
    "## Arrays can be explicitly created like this:\n",
    "Vector(undef,3)"
   ]
  },
  {
   "cell_type": "code",
   "execution_count": 36,
   "metadata": {},
   "outputs": [
    {
     "data": {
      "text/plain": [
       "2×2 Array{Any,2}:\n",
       " #undef  #undef\n",
       " #undef  #undef"
      ]
     },
     "execution_count": 36,
     "metadata": {},
     "output_type": "execute_result"
    }
   ],
   "source": [
    "Matrix(undef, 2,2)"
   ]
  },
  {
   "cell_type": "code",
   "execution_count": 37,
   "metadata": {},
   "outputs": [
    {
     "data": {
      "text/plain": [
       "3-element Array{Float64,1}:\n",
       " 3.0\n",
       " 2.0\n",
       " 1.0"
      ]
     },
     "execution_count": 37,
     "metadata": {},
     "output_type": "execute_result"
    }
   ],
   "source": [
    "# A 3-element Float array\n",
    "a3 = collect(Float64, 3:-1:1)"
   ]
  },
  {
   "cell_type": "markdown",
   "metadata": {},
   "source": [
    "Julia has many bulit-in functions that generate specific kinds of arrays. Here are some useful ones:\n",
    "\n",
    "- `zeros(T, d1, ..)` is a `d1`-dimensional array of all zeros.\n",
    "- `ones(T, d1, ..)` is a `d1`-dimensional array of all ones.\n",
    "- `rand(T, d1, ..)`: if `T` is Float a `d1`-dimensional array of random numbers between 0 and 1 is returned; if an array is specified as the first argument, `d1` random elements from the array are returned.\n",
    "- `randn(T, d1, ..)` is a `d1`-dimensional array of random numbers from the standard normal distribution with mean zero and standard deviation 1.\n",
    "- `MatrixT(I, (n,n))` is the `n`$\\times$`n` identity matrix. The identity operator `I` is available in the `LinearAlgebra.jl' package.\n",
    "- `fill!(A, x)` is the array `A` filled with value `x`.\n",
    "\n",
    "Note that, in the above, `d1` can be a tuple specifying multiple dimensions.\n",
    "\n",
    "Arrays can easily be concatenated in Julia. There are two functions commonly used to concatenate arrays:\n",
    "\n",
    "- `vcat(A1, A2, ..)` concatenates arrays vertically, i.e., stacks `A1` on top of `A2`.\n",
    "- `hcat(A1, A2, ..)` concatenates arrays horizontally, i.e., adds `A2` to the right of `A1`.\n",
    "\n",
    "Of course, concatenations requires that the relevant dimensions match.\n",
    "\n",
    "The following code blocks illustrates some useful array functions as we as slicing. Slicing for arrays works similarly to slicing for strings."
   ]
  },
  {
   "cell_type": "code",
   "execution_count": 1,
   "metadata": {},
   "outputs": [
    {
     "data": {
      "text/plain": [
       "2×2 Array{Int8,2}:\n",
       " 1  0\n",
       " 0  1"
      ]
     },
     "execution_count": 1,
     "metadata": {},
     "output_type": "execute_result"
    }
   ],
   "source": [
    "## Create a 2x2 identity matrix\n",
    "using LinearAlgebra\n",
    "imat = Matrix{Int8}(I, (2,2))"
   ]
  },
  {
   "cell_type": "code",
   "execution_count": 2,
   "metadata": {},
   "outputs": [
    {
     "data": {
      "text/plain": [
       "2-element Array{Float64,1}:\n",
       " 0.8953492020837617\n",
       " 0.8218388470887807"
      ]
     },
     "execution_count": 2,
     "metadata": {},
     "output_type": "execute_result"
    }
   ],
   "source": [
    "## return rando numbers between 0 and 1\n",
    "rand(2)"
   ]
  },
  {
   "cell_type": "code",
   "execution_count": 3,
   "metadata": {},
   "outputs": [
    {
     "data": {
      "text/plain": [
       "2×3 Array{Int64,2}:\n",
       " 80  81  82\n",
       " 90  91  92"
      ]
     },
     "execution_count": 3,
     "metadata": {},
     "output_type": "execute_result"
    }
   ],
   "source": [
    "B = [80 81 82 ; 90 91 92]"
   ]
  },
  {
   "cell_type": "code",
   "execution_count": 4,
   "metadata": {},
   "outputs": [
    {
     "data": {
      "text/plain": [
       "2-element Array{Int64,1}:\n",
       " 90\n",
       " 81"
      ]
     },
     "execution_count": 4,
     "metadata": {},
     "output_type": "execute_result"
    }
   ],
   "source": [
    "rand(B,2)"
   ]
  },
  {
   "cell_type": "code",
   "execution_count": 5,
   "metadata": {},
   "outputs": [
    {
     "data": {
      "text/plain": [
       "6"
      ]
     },
     "execution_count": 5,
     "metadata": {},
     "output_type": "execute_result"
    }
   ],
   "source": [
    "## The number of elements in B\n",
    "length(B)"
   ]
  },
  {
   "cell_type": "code",
   "execution_count": 6,
   "metadata": {},
   "outputs": [
    {
     "data": {
      "text/plain": [
       "(2, 3)"
      ]
     },
     "execution_count": 6,
     "metadata": {},
     "output_type": "execute_result"
    }
   ],
   "source": [
    "## The dimensions of B\n",
    "size(B)"
   ]
  },
  {
   "cell_type": "code",
   "execution_count": 7,
   "metadata": {},
   "outputs": [
    {
     "data": {
      "text/plain": [
       "2"
      ]
     },
     "execution_count": 7,
     "metadata": {},
     "output_type": "execute_result"
    }
   ],
   "source": [
    "## the number of dimensions of B\n",
    "ndims(B)"
   ]
  },
  {
   "cell_type": "code",
   "execution_count": 8,
   "metadata": {},
   "outputs": [
    {
     "data": {
      "text/plain": [
       "3×2 Array{Int64,2}:\n",
       " 80  91\n",
       " 90  82\n",
       " 81  92"
      ]
     },
     "execution_count": 8,
     "metadata": {},
     "output_type": "execute_result"
    }
   ],
   "source": [
    "## A new array with the same elements (data) as B but different dimensions \n",
    "reshape(B, (3,2))"
   ]
  },
  {
   "cell_type": "code",
   "execution_count": 9,
   "metadata": {},
   "outputs": [
    {
     "data": {
      "text/plain": [
       "2"
      ]
     },
     "execution_count": 9,
     "metadata": {},
     "output_type": "execute_result"
    }
   ],
   "source": [
    "ndims(B)"
   ]
  },
  {
   "cell_type": "code",
   "execution_count": 10,
   "metadata": {},
   "outputs": [
    {
     "data": {
      "text/plain": [
       "2×3 Array{Int64,2}:\n",
       " 80  81  82\n",
       " 90  91  92"
      ]
     },
     "execution_count": 10,
     "metadata": {},
     "output_type": "execute_result"
    }
   ],
   "source": [
    "## A copy of B, where elements are recursively copied\n",
    "B2 = deepcopy(B)"
   ]
  },
  {
   "cell_type": "code",
   "execution_count": 11,
   "metadata": {},
   "outputs": [
    {
     "data": {
      "text/plain": [
       "2-element Array{Int64,1}:\n",
       " 80\n",
       " 90"
      ]
     },
     "execution_count": 11,
     "metadata": {},
     "output_type": "execute_result"
    }
   ],
   "source": [
    "## When slicing, a slice is specified for each dimension\n",
    "## The first two rows of the first column done two ways\n",
    "B[1:2, ]"
   ]
  },
  {
   "cell_type": "code",
   "execution_count": 12,
   "metadata": {},
   "outputs": [
    {
     "data": {
      "text/plain": [
       "2-element Array{Int64,1}:\n",
       " 80\n",
       " 90"
      ]
     },
     "execution_count": 12,
     "metadata": {},
     "output_type": "execute_result"
    }
   ],
   "source": [
    "B[1:2,1]"
   ]
  },
  {
   "cell_type": "code",
   "execution_count": 13,
   "metadata": {},
   "outputs": [
    {
     "data": {
      "text/plain": [
       "2-element Array{Int64,1}:\n",
       " 81\n",
       " 91"
      ]
     },
     "execution_count": 13,
     "metadata": {},
     "output_type": "execute_result"
    }
   ],
   "source": [
    "## The first two rows of the second column\n",
    "B[1:2,2]"
   ]
  },
  {
   "cell_type": "code",
   "execution_count": 15,
   "metadata": {},
   "outputs": [
    {
     "data": {
      "text/plain": [
       "3-element Array{Int64,1}:\n",
       " 80\n",
       " 81\n",
       " 82"
      ]
     },
     "execution_count": 15,
     "metadata": {},
     "output_type": "execute_result"
    }
   ],
   "source": [
    "# The first row\n",
    "B[1,:]"
   ]
  },
  {
   "cell_type": "code",
   "execution_count": 16,
   "metadata": {},
   "outputs": [
    {
     "data": {
      "text/plain": [
       "81"
      ]
     },
     "execution_count": 16,
     "metadata": {},
     "output_type": "execute_result"
    }
   ],
   "source": [
    "## The third element\n",
    "B[3]"
   ]
  },
  {
   "cell_type": "code",
   "execution_count": 17,
   "metadata": {},
   "outputs": [
    {
     "data": {
      "text/plain": [
       "3-element Array{Float64,1}:\n",
       " 4.0\n",
       " 5.0\n",
       " 8.0"
      ]
     },
     "execution_count": 17,
     "metadata": {},
     "output_type": "execute_result"
    }
   ],
   "source": [
    "# Another way to build an array is using comprehensions\n",
    "A1 = [sqrt(i) for i in [16,25,64]]"
   ]
  },
  {
   "cell_type": "code",
   "execution_count": 18,
   "metadata": {},
   "outputs": [
    {
     "data": {
      "text/plain": [
       "3-element Array{Int64,1}:\n",
       " 1\n",
       " 4\n",
       " 9"
      ]
     },
     "execution_count": 18,
     "metadata": {},
     "output_type": "execute_result"
    }
   ],
   "source": [
    "A2 = [i^2 for i in [1,2,3]]"
   ]
  },
  {
   "cell_type": "markdown",
   "metadata": {},
   "source": [
    "From a couple of examples in the above code block, we can see that Julia counts array elements by column, i.e., the $k$th element of the $n\\times m$ matrix $X$ is the $k$th element of the $nm$-vector vec($X$). Array comprehensions, illistrated above, are another more sophisticated way of building arrays. The generate the items in the array with a function and a loop. These items are then collected into an array by the brackets `[]` that surround the loop and function."
   ]
  },
  {
   "cell_type": "markdown",
   "metadata": {},
   "source": [
    "### Dictionaries\n",
    "\n",
    "In Julia, dictionaries are defined as associative collections consisting of a key value pair, i.e., the key is associated with a specific value. These key-value pairs have their own type in Julia, `Pairtypeof(Key)`, `typeof(value)` which creates a `Pair` object. Alternatively, the `=>` symbol can be used to separate the key and value to create the same `Pair` object. One use of `Pair` objects is in the instantiation of dictionaries. Dictionaries in Julia can be used analogously to lists in *R*. Dictionaries are created using the keyword `Dict` and types can be specified for both the key and the value. The keys are hashed and are always unique."
   ]
  },
  {
   "cell_type": "code",
   "execution_count": 21,
   "metadata": {},
   "outputs": [
    {
     "data": {
      "text/plain": [
       "Dict{Integer,String}"
      ]
     },
     "execution_count": 21,
     "metadata": {},
     "output_type": "execute_result"
    }
   ],
   "source": [
    "## Three dictionaries, D0 is empty, D1 and D1 are the same\n",
    "D0 = Dict()\n",
    "D1 = Dict(1 => \"red\", 2 => \"white\")\n",
    "D2 = Dict{Integer, String}(1 => \"red\", 2 => \"white\")\n",
    "typeof(D2)"
   ]
  },
  {
   "cell_type": "code",
   "execution_count": 23,
   "metadata": {},
   "outputs": [
    {
     "data": {
      "text/plain": [
       "Dict{Int64,String} with 3 entries:\n",
       "  2 => \"maple syrup\"\n",
       "  3 => \"touriere\"\n",
       "  1 => \"salmon\""
      ]
     },
     "execution_count": 23,
     "metadata": {},
     "output_type": "execute_result"
    }
   ],
   "source": [
    "## Dictionaries can be created using a loop\n",
    "food = [\"salmon\", \"maple syrup\", \"touriere\"]\n",
    "\n",
    "food_dict = Dict{Int, String}()\n",
    "\n",
    "## keys are the foods index in the array\n",
    "for (n, fd) in enumerate(food)\n",
    "    food_dict[n] = fd\n",
    "end\n",
    "food_dict"
   ]
  },
  {
   "cell_type": "code",
   "execution_count": 26,
   "metadata": {},
   "outputs": [
    {
     "data": {
      "text/plain": [
       "Dict{Int64,String} with 3 entries:\n",
       "  2 => \"white\"\n",
       "  3 => \"rose\"\n",
       "  1 => \"red\""
      ]
     },
     "execution_count": 26,
     "metadata": {},
     "output_type": "execute_result"
    }
   ],
   "source": [
    "## Dictionaries can also be created using the generator syntax\n",
    "wine = [\"red\", \"white\", \"rose\"]\n",
    "wine_dict = Dict{Int, String}(i => wine[i] for i in 1:length(wine))"
   ]
  },
  {
   "cell_type": "markdown",
   "metadata": {},
   "source": [
    "Values can be accessed using `[]` with a value of dictionary key inserted between them or `get()`. The presence of a key can be checked using `haskey()` and a particular key can be accessed using `getkey()`. Keys can also be modified, as illustrated in the below code block. Here, we also demonstrate adding and deleting entries from a dictionary as well as various ways of manipulating keys and values. Note that the following code block builds on the previous."
   ]
  },
  {
   "cell_type": "code",
   "execution_count": 27,
   "metadata": {},
   "outputs": [
    {
     "data": {
      "text/plain": [
       "\"salmon\""
      ]
     },
     "execution_count": 27,
     "metadata": {},
     "output_type": "execute_result"
    }
   ],
   "source": [
    "## Values can be accessed similarly to an array, but by key:\n",
    "food_dict[1]"
   ]
  },
  {
   "cell_type": "code",
   "execution_count": 28,
   "metadata": {},
   "outputs": [
    {
     "data": {
      "text/plain": [
       "\"salmon\""
      ]
     },
     "execution_count": 28,
     "metadata": {},
     "output_type": "execute_result"
    }
   ],
   "source": [
    "## The get() function can alos be used; note that \"unknown\" is the value returned here \n",
    "## if the key is not in the dictionary\n",
    "get(food_dict,1,\"unknown\")"
   ]
  },
  {
   "cell_type": "code",
   "execution_count": 29,
   "metadata": {},
   "outputs": [
    {
     "data": {
      "text/plain": [
       "\"unknown\""
      ]
     },
     "execution_count": 29,
     "metadata": {},
     "output_type": "execute_result"
    }
   ],
   "source": [
    "get(food_dict,7,\"unknown\")"
   ]
  },
  {
   "cell_type": "code",
   "execution_count": 30,
   "metadata": {},
   "outputs": [
    {
     "data": {
      "text/plain": [
       "true"
      ]
     },
     "execution_count": 30,
     "metadata": {},
     "output_type": "execute_result"
    }
   ],
   "source": [
    "## we can also check directly for the presence of a particular key\n",
    "haskey(food_dict,2)"
   ]
  },
  {
   "cell_type": "code",
   "execution_count": 31,
   "metadata": {},
   "outputs": [
    {
     "data": {
      "text/plain": [
       "false"
      ]
     },
     "execution_count": 31,
     "metadata": {},
     "output_type": "execute_result"
    }
   ],
   "source": [
    "haskey(food_dict,9)"
   ]
  },
  {
   "cell_type": "code",
   "execution_count": 33,
   "metadata": {},
   "outputs": [
    {
     "data": {
      "text/plain": [
       "1"
      ]
     },
     "execution_count": 33,
     "metadata": {},
     "output_type": "execute_result"
    }
   ],
   "source": [
    "## The getkey() function can also be used; note that 999 is the \n",
    "## value returned here if the key is not in the dictionary\n",
    "getkey(food_dict,1,999)"
   ]
  },
  {
   "cell_type": "code",
   "execution_count": 36,
   "metadata": {},
   "outputs": [
    {
     "data": {
      "text/plain": [
       "Dict{Int64,String} with 3 entries:\n",
       "  2 => \"maple syrup\"\n",
       "  3 => \"touriere\"\n",
       "  1 => \"lobster\""
      ]
     },
     "execution_count": 36,
     "metadata": {},
     "output_type": "execute_result"
    }
   ],
   "source": [
    "## A new value can be associated with an existing key\n",
    "food_dict[1]\n",
    "food_dict[1] = \"lobster\""
   ]
  },
  {
   "cell_type": "code",
   "execution_count": 40,
   "metadata": {},
   "outputs": [
    {
     "data": {
      "text/plain": [
       "\"miss\""
      ]
     },
     "execution_count": 40,
     "metadata": {},
     "output_type": "execute_result"
    }
   ],
   "source": [
    "## Two common ways to add new entries:\n",
    "food_dict[4] = \"bannock\"\n",
    "get!(food_dict,4,\"miss\")\n",
    "food_dict[5]"
   ]
  },
  {
   "cell_type": "code",
   "execution_count": 41,
   "metadata": {},
   "outputs": [
    {
     "data": {
      "text/plain": [
       "\"bannock\""
      ]
     },
     "execution_count": 41,
     "metadata": {},
     "output_type": "execute_result"
    }
   ],
   "source": [
    "## The advantage of get!() is that will not add the new entry if\n",
    "## a value is already associated with the key\n",
    "get!(food_dict,4,\"fake\")"
   ]
  },
  {
   "cell_type": "code",
   "execution_count": 42,
   "metadata": {},
   "outputs": [
    {
     "data": {
      "text/plain": [
       "Dict{Int64,String} with 4 entries:\n",
       "  2 => \"maple syrup\"\n",
       "  3 => \"touriere\"\n",
       "  5 => \"miss\"\n",
       "  1 => \"lobster\""
      ]
     },
     "execution_count": 42,
     "metadata": {},
     "output_type": "execute_result"
    }
   ],
   "source": [
    "## Just deleting entries by key is straightforward\n",
    "delete!(food_dict,4)"
   ]
  },
  {
   "cell_type": "code",
   "execution_count": 44,
   "metadata": {},
   "outputs": [
    {
     "data": {
      "text/plain": [
       "Dict{Int64,String} with 3 entries:\n",
       "  2 => \"maple syrup\"\n",
       "  5 => \"miss\"\n",
       "  1 => \"lobster\""
      ]
     },
     "execution_count": 44,
     "metadata": {},
     "output_type": "execute_result"
    }
   ],
   "source": [
    "## But we can also delete by key and return the value assocated with the key;\n",
    "## note that 999 is reurned here if the key is not present\n",
    "deleted_fd_value = pop!(food_dict,3,999)\n",
    "food_dict"
   ]
  },
  {
   "cell_type": "code",
   "execution_count": 45,
   "metadata": {},
   "outputs": [
    {
     "data": {
      "text/plain": [
       "3-element Array{Int64,1}:\n",
       " 2\n",
       " 5\n",
       " 1"
      ]
     },
     "execution_count": 45,
     "metadata": {},
     "output_type": "execute_result"
    }
   ],
   "source": [
    "## Keys can be coerced into arrays\n",
    "collect(keys(food_dict))"
   ]
  },
  {
   "cell_type": "code",
   "execution_count": 46,
   "metadata": {},
   "outputs": [
    {
     "data": {
      "text/plain": [
       "3-element Array{String,1}:\n",
       " \"maple syrup\"\n",
       " \"miss\"       \n",
       " \"lobster\"    "
      ]
     },
     "execution_count": 46,
     "metadata": {},
     "output_type": "execute_result"
    }
   ],
   "source": [
    "collect(values(food_dict))"
   ]
  },
  {
   "cell_type": "code",
   "execution_count": 47,
   "metadata": {},
   "outputs": [
    {
     "name": "stdout",
     "output_type": "stream",
     "text": [
      "food_dict: key: 2value: maple syrup\n",
      "food_dict: key: 5value: miss\n",
      "food_dict: key: 1value: lobster\n"
     ]
    }
   ],
   "source": [
    "## We can also iterate over both keys and values\n",
    "for (k, v) in food_dict\n",
    "    println(\"food_dict: key: \", k, \"value: \", v)\n",
    "end"
   ]
  },
  {
   "cell_type": "code",
   "execution_count": 48,
   "metadata": {},
   "outputs": [
    {
     "name": "stdout",
     "output_type": "stream",
     "text": [
      "food_dict: keys: 2\n",
      "food_dict: keys: 5\n",
      "food_dict: keys: 1\n"
     ]
    }
   ],
   "source": [
    "## We can also just loop over keys\n",
    "for k in keys(food_dict)\n",
    "    println(\"food_dict: keys: \",k)\n",
    "end"
   ]
  },
  {
   "cell_type": "code",
   "execution_count": 50,
   "metadata": {},
   "outputs": [
    {
     "name": "stdout",
     "output_type": "stream",
     "text": [
      "food_dict: value:maple syrup\n",
      "food_dict: value:miss\n",
      "food_dict: value:lobster\n"
     ]
    }
   ],
   "source": [
    "## Or could also just loop over values\n",
    "for v in values(food_dict)\n",
    "    println(\"food_dict: value:\", v)\n",
    "end"
   ]
  },
  {
   "cell_type": "markdown",
   "metadata": {},
   "source": [
    "## CONTROL FLOW\n",
    "\n",
    "### Compound Expressions\n",
    "\n",
    "In Julia, a compound expression is one expression that is uesd to sequentially evalute a group of subexpressions. The value of the last subexpression is returned as the value of the expression. THere area two to achieve this: `Begin` blocks and chains."
   ]
  },
  {
   "cell_type": "code",
   "execution_count": 51,
   "metadata": {},
   "outputs": [
    {
     "name": "stdout",
     "output_type": "stream",
     "text": [
      "b1: 100\n"
     ]
    }
   ],
   "source": [
    "## A begin block\n",
    "b1 = begin\n",
    "    c = 20\n",
    "    d = 5\n",
    "    c * d\n",
    "end\n",
    "println(\"b1: \", b1)"
   ]
  },
  {
   "cell_type": "code",
   "execution_count": 52,
   "metadata": {},
   "outputs": [
    {
     "name": "stdout",
     "output_type": "stream",
     "text": [
      "b2: 100\n"
     ]
    }
   ],
   "source": [
    "## A chain\n",
    "b2 = (c= 20 ; d = 5 ; c * d)\n",
    "println(\"b2: \", b2)"
   ]
  },
  {
   "cell_type": "markdown",
   "metadata": {},
   "source": [
    "### Conditional Evaluation\n",
    "\n",
    "Conditional evaluation allows parts of a program to evaluated, or not, based on the value of a Boolean expression, i.e., an expression that produces a true/false value. In Julia, conditional evaluation takes the form of an `if-elseif-else` construct, which is evaluated until the first BOolean expression evaluates to true or the else statement is reached. When is given Boolean expression evaluates to true, the associated block of code executed. No other code blocks or condition expressions within the `if-elseif-else` construct returns the value of the last executed statement. Programmers can use as many `elseif` blocks as they wish, including none, i.e., an `if-else` construct. In Julia, `if`, `elseif` and `else` statements do not require parentheses; in fact, their use is discouraged."
   ]
  },
  {
   "cell_type": "code",
   "execution_count": 53,
   "metadata": {},
   "outputs": [
    {
     "data": {
      "text/plain": [
       "\"not zero\""
      ]
     },
     "execution_count": 53,
     "metadata": {},
     "output_type": "execute_result"
    }
   ],
   "source": [
    "# An if-else construct\n",
    "k = 1\n",
    "if k == 0\n",
    "    \"zero\"\n",
    "else\n",
    "    \"not zero\"\n",
    "end"
   ]
  },
  {
   "cell_type": "code",
   "execution_count": 54,
   "metadata": {},
   "outputs": [
    {
     "data": {
      "text/plain": [
       "2"
      ]
     },
     "execution_count": 54,
     "metadata": {},
     "output_type": "execute_result"
    }
   ],
   "source": [
    "## An if-elseif-else construct\n",
    "k = 11\n",
    "if k % 3 == 0\n",
    "    0\n",
    "elseif k % 3 == 1\n",
    "    1\n",
    "else\n",
    "    2\n",
    "end"
   ]
  },
  {
   "cell_type": "markdown",
   "metadata": {},
   "source": [
    "An alternative approach to conditional evaluation is via shortcircuit evaluation. This construct has the form `a ? b : c`, where `a` is a Boolean expression, `b` is evaluated if `a` is true, and `c` is evaluated if `a` is false. Note that `? :` is called the \"ternary operator\", it assocaites from right to left, and it can be useful for short conditional statements. Ternary operators cna be chained together to accommodate situations analogous to an `if-elseif-else` construct with one or more `ifelse` blocks."
   ]
  },
  {
   "cell_type": "code",
   "execution_count": 55,
   "metadata": {},
   "outputs": [
    {
     "name": "stdout",
     "output_type": "stream",
     "text": [
      "SCE: b < c: less than\n"
     ]
    }
   ],
   "source": [
    "# A short-circuit evaluation\n",
    "b = 10; c = 20;\n",
    "println(\"SCE: b < c: \", b < c ? \"less than\" : \"not less than\")"
   ]
  },
  {
   "cell_type": "code",
   "execution_count": 58,
   "metadata": {},
   "outputs": [
    {
     "name": "stdout",
     "output_type": "stream",
     "text": [
      "SCE: chained d vs e: equal\n"
     ]
    }
   ],
   "source": [
    "# A short-circuit evaluation with nesting\n",
    "d = 10; f = 10;\n",
    "println(\"SCE: chained d vs e: \", d < f ? \"less than \" : d > f ? \"greater than\" : \"equal\")"
   ]
  },
  {
   "cell_type": "markdown",
   "metadata": {},
   "source": [
    "Note that we do not use e in the above example because it is a literal in Julia (the exponential function); while it can be overwritten, it is best practice to avoid doing so."
   ]
  },
  {
   "cell_type": "code",
   "execution_count": 59,
   "metadata": {},
   "outputs": [
    {
     "ename": "UndefVarError",
     "evalue": "UndefVarError: e not defined",
     "output_type": "error",
     "traceback": [
      "UndefVarError: e not defined",
      "",
      "Stacktrace:",
      " [1] top-level scope at In[59]:1"
     ]
    }
   ],
   "source": [
    "e"
   ]
  },
  {
   "cell_type": "code",
   "execution_count": 60,
   "metadata": {},
   "outputs": [
    {
     "data": {
      "text/plain": [
       "ℯ = 2.7182818284590..."
      ]
     },
     "execution_count": 60,
     "metadata": {},
     "output_type": "execute_result"
    }
   ],
   "source": [
    "using Base.MathConstants\n",
    "e"
   ]
  },
  {
   "cell_type": "markdown",
   "metadata": {},
   "source": [
    "### Loops\n",
    "\n",
    "#### Basics\n",
    "\n",
    "Two looping constructs exist in Julia: `for` loops and `while` loops. Theses loops can iterate over any container, such as a string or an array. The body of loop ends with the `end` keyword. Variables reference inside variables defined outside the body of the lop, pre-append them with the global keyword inside the body of the loop. A `for` loop can operate over a range object representing a sequence of number, e.g., `1:5`, which it uses to get each index to loop through the range of values in the range, assigning each one to an indexing variable. THe indexing variable only exists inside the loop. when looping over a container, `for` loops can access the elements of the container directly using the `in` operator. Rather than using simple nesting, nested `for` loops can be written as a single outer loop with multiple indexing variables forming a Cartesian product, e.g., if there are two indexing variables then, for each value of the first index, each value of the second index is evaluated."
   ]
  },
  {
   "cell_type": "code",
   "execution_count": null,
   "metadata": {},
   "outputs": [],
   "source": []
  }
 ],
 "metadata": {
  "celltoolbar": "Tags",
  "kernelspec": {
   "display_name": "Julia 1.1.1",
   "language": "julia",
   "name": "julia-1.1"
  },
  "language_info": {
   "file_extension": ".jl",
   "mimetype": "application/julia",
   "name": "julia",
   "version": "1.1.1"
  },
  "toc": {
   "base_numbering": 1,
   "nav_menu": {},
   "number_sections": true,
   "sideBar": true,
   "skip_h1_title": false,
   "title_cell": "Table of Contents",
   "title_sidebar": "Contents",
   "toc_cell": false,
   "toc_position": {},
   "toc_section_display": true,
   "toc_window_display": false
  }
 },
 "nbformat": 4,
 "nbformat_minor": 2
}
