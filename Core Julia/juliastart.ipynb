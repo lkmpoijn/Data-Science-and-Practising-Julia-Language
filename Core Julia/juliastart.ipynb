{
 "cells": [
  {
   "cell_type": "markdown",
   "metadata": {},
   "source": [
    "# Core Julia\n",
    "\n",
    "This chapter consists of six sections:\n",
    "\n",
    "1. Variable names;\n",
    "2. Operators;\n",
    "3. Types;\n",
    "4. Data Structure;\n",
    "5. Control flow;\n",
    "6. Functions.\n",
    "\n",
    "## Variable names\n",
    "\n",
    "Variable names are case sensitive and Unicode names (in UTF-8 encoding) may be used. And names must begin with a letter, no matter lowercase or uppercase, an underscore or a Unicode code point larger than 00A0, and other Unicode points, even a latex symbol. We can also redefine the constants here, such as $\\pi$. But bulid-in statements are not allowed in this language. The examples are below.\n"
   ]
  },
  {
   "cell_type": "code",
   "execution_count": 1,
   "metadata": {},
   "outputs": [
    {
     "data": {
      "text/plain": [
       "true"
      ]
     },
     "execution_count": 1,
     "metadata": {},
     "output_type": "execute_result"
    }
   ],
   "source": [
    "## right variable names\n",
    "z = 100\n",
    "y = 1.0\n",
    "s = \"my_variable\"\n",
    "data_science = \"true\"\n",
    "datascience = true\n",
    "\n",
    "## wrong variable names are here if run them, return an error\n",
    "## if = 1.2\n",
    "## else = true\n",
    "## "
   ]
  },
  {
   "cell_type": "markdown",
   "metadata": {},
   "source": [
    "## Operators\n",
    "\n",
    "The operators are similar to *R* and *Python*. Four main categories of operators in Julia:\n",
    "\n",
    "1. Arithmetic;\n",
    "2. Updating;\n",
    "3. Numeric comparison;\n",
    "4. Bitwise."
   ]
  },
  {
   "cell_type": "code",
   "execution_count": null,
   "metadata": {
    "scrolled": true
   },
   "outputs": [],
   "source": [
    "x = 2\n",
    "y = 3\n",
    "z = 4\n",
    "\n",
    "x + y \n",
    "x^y\n",
    "x += 2\n",
    "x\n",
    "y"
   ]
  },
  {
   "cell_type": "markdown",
   "metadata": {},
   "source": [
    "When constructing expressing with multiple operators, the order in which these operators are applied to the expression is known as operator precedence.\n",
    "\n",
    "With the parentheses () inclueded in the expression, we can control the order by ourselves like the following code"
   ]
  },
  {
   "cell_type": "code",
   "execution_count": null,
   "metadata": {},
   "outputs": [],
   "source": [
    "x*y+z^2\n",
    "x*(y+z^2)\n",
    "(x*y)+(z^2)"
   ]
  },
  {
   "cell_type": "markdown",
   "metadata": {
    "slideshow": {
     "slide_type": "slide"
    }
   },
   "source": [
    "## Types\n",
    "\n",
    "### Numeric\n",
    "\n",
    "Julia offers full support for real and complex numbers. The internal variable `Sys.WORD_SIZE` displays the architecture type of the computer. Minimum and Maximum can be showed by `typemin()` and `typemax()`."
   ]
  },
  {
   "cell_type": "code",
   "execution_count": 2,
   "metadata": {},
   "outputs": [
    {
     "data": {
      "text/plain": [
       "64"
      ]
     },
     "execution_count": 2,
     "metadata": {},
     "output_type": "execute_result"
    }
   ],
   "source": [
    "Sys.WORD_SIZE"
   ]
  },
  {
   "cell_type": "code",
   "execution_count": 3,
   "metadata": {},
   "outputs": [
    {
     "data": {
      "text/plain": [
       "9223372036854775807"
      ]
     },
     "execution_count": 3,
     "metadata": {},
     "output_type": "execute_result"
    }
   ],
   "source": [
    "typemax(Int)"
   ]
  },
  {
   "cell_type": "code",
   "execution_count": 4,
   "metadata": {},
   "outputs": [
    {
     "data": {
      "text/plain": [
       "-9223372036854775808"
      ]
     },
     "execution_count": 4,
     "metadata": {},
     "output_type": "execute_result"
    }
   ],
   "source": [
    "typemin(Int)"
   ]
  },
  {
   "cell_type": "code",
   "execution_count": 5,
   "metadata": {},
   "outputs": [
    {
     "data": {
      "text/plain": [
       "9223372036854775807"
      ]
     },
     "execution_count": 5,
     "metadata": {},
     "output_type": "execute_result"
    }
   ],
   "source": [
    "typemax(Int64)"
   ]
  },
  {
   "cell_type": "code",
   "execution_count": 6,
   "metadata": {},
   "outputs": [
    {
     "data": {
      "text/plain": [
       "Inf32"
      ]
     },
     "execution_count": 6,
     "metadata": {},
     "output_type": "execute_result"
    }
   ],
   "source": [
    "typemax(Float32)"
   ]
  },
  {
   "cell_type": "markdown",
   "metadata": {
    "slideshow": {
     "slide_type": "slide"
    }
   },
   "source": [
    "Some types use leftmost bit to control the sign, such as `Int64`, but others use that bit as value and without sign like `UInt128`.\n",
    "\n",
    "Boolean values are 8-bit integers, with false being 0 and true being 1.Overflow errors will happen if the result is larger or smaller than its allowable size."
   ]
  },
  {
   "cell_type": "code",
   "execution_count": 7,
   "metadata": {
    "slideshow": {
     "slide_type": "notes"
    }
   },
   "outputs": [
    {
     "name": "stdout",
     "output_type": "stream",
     "text": [
      "typeof(literal_int):Int64\n"
     ]
    }
   ],
   "source": [
    "literal_int = 1\n",
    "println(\"typeof(literal_int):\",typeof(literal_int))"
   ]
  },
  {
   "cell_type": "code",
   "execution_count": 8,
   "metadata": {},
   "outputs": [
    {
     "data": {
      "text/plain": [
       "9223372036854775807"
      ]
     },
     "execution_count": 8,
     "metadata": {},
     "output_type": "execute_result"
    }
   ],
   "source": [
    "x = typemax(Int64)"
   ]
  },
  {
   "cell_type": "code",
   "execution_count": 9,
   "metadata": {},
   "outputs": [
    {
     "data": {
      "text/plain": [
       "-9223372036854775808"
      ]
     },
     "execution_count": 9,
     "metadata": {},
     "output_type": "execute_result"
    }
   ],
   "source": [
    "x += 1"
   ]
  },
  {
   "cell_type": "markdown",
   "metadata": {},
   "source": [
    "### Floats\n",
    "\n",
    "Floats are similar to scientific notation. They are made up of three components: asigned interger whose length determines the precision, the base used to represent te number and a signed integer htat changes the magnitude of floating point number (the exponent). `Float64` literals are distinguished by having an `e` before hte power, and can be defined in hexadecimal. `Float32` literals are distinguished by having an `f` in place of the `e`. THere are three `Float64` values that do not occur on the real line:\n",
    "\n",
    "1. `Inf`, positive indinity: a value larger than all finite floating point numbers, equal to itself, and greater than every other floating point value but `NaN`;\n",
    "2. `-Inf`, negative infinity: a value less than all finite floating point numbers, equal to itself, and less than every other floating point value but `NaN`;\n",
    "3. `NaN`, not a number: a value not equal to any floating point value, and not `==`,`<` or `>` than any floating point value, including itself.\n",
    "\n",
    "Some tips:\n",
    "\n",
    "1. digit separation using an `_`;"
   ]
  },
  {
   "cell_type": "code",
   "execution_count": 10,
   "metadata": {},
   "outputs": [
    {
     "name": "stdout",
     "output_type": "stream",
     "text": [
      "x1 is Float64\n",
      "\n",
      "x64 is Float64\n",
      "\n",
      "x32 is Float32\n"
     ]
    }
   ],
   "source": [
    "x1 = 1.0\n",
    "x64 = 15e-15\n",
    "x32 = 2.5f-4\n",
    "println(\"x1 is \",typeof(x1))\n",
    "println(\"\\nx64 is \", typeof(x64))\n",
    "println(\"\\nx32 is \", typeof(x32))"
   ]
  },
  {
   "cell_type": "code",
   "execution_count": 11,
   "metadata": {},
   "outputs": [
    {
     "data": {
      "text/plain": [
       "true"
      ]
     },
     "execution_count": 11,
     "metadata": {},
     "output_type": "execute_result"
    }
   ],
   "source": [
    "9.2_4==9.24\n",
    "## digit separation using an _"
   ]
  },
  {
   "cell_type": "markdown",
   "metadata": {},
   "source": [
    "In machine, it is defined that the smallest value is $1+z\\neq 1$. In Julia, the value of epsilon for a particular machine can be found via the `eps()` function.\n",
    "\n",
    "The spacing between floating point numbers and the value of machine epsilon is important to understand because it can help avoid certain types of errors.\n",
    "\n",
    "There are also float underflow errors, which occur when the result of a calculation is smaller than machine epsilon or when numbers of similar precision are subtracted."
   ]
  },
  {
   "cell_type": "code",
   "execution_count": 12,
   "metadata": {},
   "outputs": [
    {
     "data": {
      "text/plain": [
       "2.220446049250313e-16"
      ]
     },
     "execution_count": 12,
     "metadata": {},
     "output_type": "execute_result"
    }
   ],
   "source": [
    "eps()"
   ]
  },
  {
   "cell_type": "code",
   "execution_count": 13,
   "metadata": {},
   "outputs": [
    {
     "name": "stdout",
     "output_type": "stream",
     "text": [
      "2.2204460492503132e-41\n",
      "2.2204460492503133e-21\n",
      "2.220446049250313e-16\n",
      "2.220446049250313e-11\n",
      "2.2204460492503133e9\n"
     ]
    }
   ],
   "source": [
    "n1 = [1e-25,1e-5,1.,1e5,1e25]\n",
    "for i in n1\n",
    "    println(*(i,eps()))\n",
    "end"
   ]
  },
  {
   "cell_type": "markdown",
   "metadata": {},
   "source": [
    "### Strings\n",
    "\n",
    "In Julia, a string is a sequence of Unicode code points, using UTF-8 encoding. Characters in strings have an index value within the string. It is worth noting that Julia indices start at **position 1**, similar to **R** but different to **Python**."
   ]
  }
 ],
 "metadata": {
  "celltoolbar": "Tags",
  "kernelspec": {
   "display_name": "Julia 1.1.1",
   "language": "julia",
   "name": "julia-1.1"
  },
  "language_info": {
   "file_extension": ".jl",
   "mimetype": "application/julia",
   "name": "julia",
   "version": "1.1.1"
  }
 },
 "nbformat": 4,
 "nbformat_minor": 2
}
