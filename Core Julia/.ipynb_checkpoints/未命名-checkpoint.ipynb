{
 "cells": [
  {
   "cell_type": "markdown",
   "metadata": {},
   "source": [
    "# Core Julia\n",
    "\n",
    "This chapter consists of six sections:\n",
    "\n",
    "1. Variable names;\n",
    "2. Operators;\n",
    "3. Types;\n",
    "4. Data Structure;\n",
    "5. Control flow;\n",
    "6. Functions.\n",
    "\n",
    "## Variable names\n",
    "\n",
    "Variable names are case sensitive and Unicode names (in UTF-8 encoding) may be used. And names must begin with a letter, no matter lowercase or uppercase, an underscore or a Unicode code point larger than 00A0, and other Unicode points, even a latex symbol. We can also redefine the constants here, such as ![](https://latex.codecogs.com/gif.latex?%5Cpi). But bulid-in statements are not allowed in this language. The examples are below.\n"
   ]
  },
  {
   "cell_type": "code",
   "execution_count": 1,
   "metadata": {},
   "outputs": [
    {
     "data": {
      "text/plain": [
       "true"
      ]
     },
     "execution_count": 1,
     "metadata": {},
     "output_type": "execute_result"
    }
   ],
   "source": [
    "## right variable names\n",
    "z = 100\n",
    "y = 1.0\n",
    "ϑ = 5.0\n",
    "s = \"my_variable\"\n",
    "μ = 1.2\n",
    "data_science = \"true\"\n",
    "datascience = true\n",
    "\n",
    "## wrong variable names are here if run them, return an error\n",
    "## if = 1.2\n",
    "## else = true\n",
    "## "
   ]
  },
  {
   "cell_type": "markdown",
   "metadata": {},
   "source": [
    "## Operators\n",
    "\n",
    "The operators are similar to *R* and *Python*. Four main categories of operators in Julia:\n",
    "\n",
    "1. Arithmetic;\n",
    "2. Updaing;\n",
    "3. Numeric comparison;\n",
    "4. Bitwise."
   ]
  }
 ],
 "metadata": {
  "kernelspec": {
   "display_name": "Julia 1.1.1",
   "language": "julia",
   "name": "julia-1.1"
  },
  "language_info": {
   "file_extension": ".jl",
   "mimetype": "application/julia",
   "name": "julia",
   "version": "1.1.1"
  }
 },
 "nbformat": 4,
 "nbformat_minor": 2
}
